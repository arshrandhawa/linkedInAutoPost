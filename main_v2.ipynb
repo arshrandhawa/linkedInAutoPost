{
 "cells": [
  {
   "cell_type": "code",
   "execution_count": 1,
   "id": "9294585f-535e-4388-a1d0-98781b54d75f",
   "metadata": {},
   "outputs": [],
   "source": [
    "import os\n",
    "from dotenv import load_dotenv\n",
    "from fastapi import FastAPI\n",
    "import requests\n",
    "import json\n",
    "from datetime import datetime\n"
   ]
  },
  {
   "cell_type": "code",
   "execution_count": 2,
   "id": "227190fe-78d3-4f89-bca4-01c48f6a26f9",
   "metadata": {},
   "outputs": [],
   "source": [
    "# Load environment variables\n",
    "load_dotenv()\n",
    "\n",
    "credentials = {\n",
    "    \"CLIENT_ID\": os.environ.get('CLIENT_ID'),\n",
    "    \"CLIENT_SECRET\": os.environ.get('CLIENT_SECRET'),\n",
    "    \"ACCESS_TOKEN_1\": os.environ.get('ACCESS_TOKEN'),\n",
    "    \"ACCESS_TOKEN_2\": os.environ.get('ACCESS_TOKEN_2'),\n",
    "    \"USER_1\": os.environ.get('USER_1'),\n",
    "    \"USER_2\": os.environ.get('USER_2')\n",
    "}"
   ]
  },
  {
   "cell_type": "code",
   "execution_count": 28,
   "id": "cf5866b9-0b35-4cec-8c73-7201c7388f8d",
   "metadata": {
    "scrolled": true
   },
   "outputs": [],
   "source": [
    "## CODE FOR TESTING\n",
    "#url = \"https://www.linkedin.com/oauth/v2/introspectToken\"\n",
    "\n",
    "#data = {\n",
    "#    \"token\": credentials['ACCESS_TOKEN_2'],\n",
    "#    \"client_id\": credentials['CLIENT_ID'],  # Your LinkedIn app's client ID\n",
    "#    \"client_secret\": credentials['CLIENT_SECRET']  # Your LinkedIn app's client secret\n",
    "#}\n",
    "\n",
    "#headers = {\n",
    "#    \"Content-Type\": \"application/x-www-form-urlencoded\"\n",
    "#}\n",
    "\n",
    "#response = requests.post(url, headers=headers, data=data)\n",
    "\n",
    "#print(response.status_code, response.json())\n",
    "#url = \"https://api.linkedin.com/v2/userinfo\"\n",
    "#headers = {\"Authorization\": f\"Bearer {credentials['ACCESS_TOKEN_2']}\"}\n",
    "#response = requests.get(url, headers=headers)\n",
    "#print(response.status_code, response.json())\n"
   ]
  },
  {
   "cell_type": "code",
   "execution_count": 29,
   "id": "a52f3d00-aafc-42a5-acd2-0704f6907924",
   "metadata": {},
   "outputs": [],
   "source": [
    "# Define the path to your JSON file\n",
    "json_file_path = os.path.join('data', 'scheduled_posts.json')\n",
    "\n",
    "# Load the JSON data\n",
    "with open(json_file_path, 'r', encoding='utf-8') as file:\n",
    "    scheduled_posts = json.load(file)\n",
    "\n",
    "#print(scheduled_posts)"
   ]
  },
  {
   "cell_type": "code",
   "execution_count": 13,
   "id": "dea6ce92-ba15-40f1-a894-48add0ad0f65",
   "metadata": {},
   "outputs": [
    {
     "data": {
      "text/plain": [
       "{'id': 'urn:li:share:7302065189313515520'}"
      ]
     },
     "execution_count": 13,
     "metadata": {},
     "output_type": "execute_result"
    }
   ],
   "source": [
    "def create_linkedin_post(user_urn, access_token, post_text):\n",
    "    url = \"https://api.linkedin.com/v2/ugcPosts\"\n",
    "    \n",
    "    headers = {\n",
    "        \"Authorization\": f\"Bearer {access_token}\",\n",
    "        \"Content-Type\": \"application/json\",\n",
    "        \"X-Restli-Protocol-Version\": \"2.0.0\"\n",
    "    }\n",
    "    \n",
    "    post_data = {\n",
    "        \"author\": user_urn,\n",
    "        \"lifecycleState\": \"PUBLISHED\",\n",
    "        \"specificContent\": {\n",
    "            \"com.linkedin.ugc.ShareContent\": {\n",
    "                \"shareCommentary\": {\n",
    "                    \"text\": post_text\n",
    "                },\n",
    "                \"shareMediaCategory\": \"NONE\"\n",
    "            }\n",
    "        },\n",
    "        \"visibility\": {\n",
    "            \"com.linkedin.ugc.MemberNetworkVisibility\": \"PUBLIC\"\n",
    "        }\n",
    "    }\n",
    "    \n",
    "    response = requests.post(url, headers=headers, json=post_data)\n",
    "    \n",
    "    if response.status_code == 201:\n",
    "        return response.json()  # Return the response if successful\n",
    "    else:\n",
    "        raise Exception(f\"Error creating post: {response.status_code} - {response.text}\")\n",
    "# Example usage:\n",
    "#create_linkedin_post(credentials['USER_1'], credentials['ACCESS_TOKEN_1'], \"Hello LinkedIn! This is an automated post using the LinkedIn API.\")\n",
    "#create_linkedin_post(credentials['USER_2'], credentials['ACCESS_TOKEN_2'], \"Hello LinkedIn! This is another automated post!\")\n"
   ]
  },
  {
   "cell_type": "code",
   "execution_count": 10,
   "id": "5851df27-42e1-44b2-8f9e-2658915e86ca",
   "metadata": {},
   "outputs": [],
   "source": [
    "# Function to check and post on the current date\n",
    "def check_and_post():\n",
    "    today = datetime.now().date().isoformat()\n",
    "    for user_id, posts in scheduled_posts.items():\n",
    "        for post in posts:\n",
    "            if post[\"date\"] == today:\n",
    "                content = post[\"content\"]\n",
    "                # Ensure content is a string, even if it's a list\n",
    "                if isinstance(content, list):\n",
    "                    content = \"\\n\".join(\n",
    "                        content[:1] +  # Keep the first item unchanged (e.g., \"Test Post:\")\n",
    "                        [line if not line.startswith(\"- \") else f\"• {line[2:]}\" for line in content[1:]]\n",
    "                    )\n",
    "                access_token = credentials['ACCESS_TOKEN_1'] if user_id == \"USER_1\" else credentials['ACCESS_TOKEN_2']\n",
    "                user_urn = credentials['USER_1'] if user_id == \"USER_1\" else credentials['USER_2']\n",
    "                try:\n",
    "                    create_linkedin_post(user_urn, access_token, content)\n",
    "                    return f\"Success: Post created for {user_id} on {today}\"\n",
    "                except Exception as e:\n",
    "                    return f\"Failure: Error posting for {user_id} on {today} - {e}\"\n",
    "    return \"No posts scheduled for today\""
   ]
  },
  {
   "cell_type": "code",
   "execution_count": 27,
   "id": "052b51b3-77c1-44ac-8fda-a7a3f01ccaf7",
   "metadata": {},
   "outputs": [],
   "source": [
    "log_file = os.path.join('data', 'scheduler_log.txt')\n",
    "\n",
    "def log_message(message):\n",
    "    with open(log_file, \"a\") as log:\n",
    "        log.write(f\"{datetime.now()} - {message}\\n\")\n",
    "\n",
    "try:\n",
    "    for user_id, posts in scheduled_posts.items():\n",
    "        for post in posts:\n",
    "            try:\n",
    "                today = datetime.now().date().isoformat()\n",
    "                if post[\"date\"] == today:\n",
    "                    content = post[\"content\"]\n",
    "                    \n",
    "                    # Ensure content is a string, even if it's a list\n",
    "                    if isinstance(content, list):\n",
    "                        content = \"\\n\".join(\n",
    "                            content[:1] +  \n",
    "                            [line if not line.startswith(\"- \") else f\"• {line[2:]}\" for line in content[1:]]\n",
    "                        )\n",
    "\n",
    "                    access_token = credentials['ACCESS_TOKEN_1'] if user_id == \"USER_1\" else credentials['ACCESS_TOKEN_2']\n",
    "                    user_urn = credentials['USER_1'] if user_id == \"USER_1\" else credentials['USER_2']\n",
    "\n",
    "                    response = create_linkedin_post(user_urn, access_token, content)\n",
    "                    \n",
    "                    log_message(f\"Success: Posted for {user_id} - Response: {response}\")\n",
    "\n",
    "            except Exception as post_error:\n",
    "                log_message(f\"Error posting for {user_id}: {post_error}\")\n",
    "\n",
    "except Exception as e:\n",
    "    log_message(f\"Failure: Exception occurred - {e}\")\n"
   ]
  }
 ],
 "metadata": {
  "kernelspec": {
   "display_name": "Python 3 (ipykernel)",
   "language": "python",
   "name": "python3"
  },
  "language_info": {
   "codemirror_mode": {
    "name": "ipython",
    "version": 3
   },
   "file_extension": ".py",
   "mimetype": "text/x-python",
   "name": "python",
   "nbconvert_exporter": "python",
   "pygments_lexer": "ipython3",
   "version": "3.12.9"
  }
 },
 "nbformat": 4,
 "nbformat_minor": 5
}
